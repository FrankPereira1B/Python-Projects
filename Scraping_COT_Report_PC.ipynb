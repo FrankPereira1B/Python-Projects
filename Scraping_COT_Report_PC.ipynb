{
 "cells": [
  {
   "cell_type": "code",
   "execution_count": 49,
   "metadata": {},
   "outputs": [],
   "source": [
    "#Importing the Libraries\n",
    "import pandas as pd\n",
    "import numpy as np"
   ]
  },
  {
   "cell_type": "code",
   "execution_count": 50,
   "metadata": {},
   "outputs": [],
   "source": [
    "#Data Import\n",
    "#data = pd.read_excel(r\"C:\\Users\\pereifr\\OneDrive - EY\\Desktop\\cot\\cot.xlsx\")"
   ]
  },
  {
   "cell_type": "code",
   "execution_count": 51,
   "metadata": {},
   "outputs": [],
   "source": [
    "#Data Export Condensed\n",
    "data = pd.read_excel(r\"C:\\Users\\pereifr\\OneDrive - EY\\Desktop\\cot\\test2.xlsx\")"
   ]
  },
  {
   "cell_type": "code",
   "execution_count": 52,
   "metadata": {},
   "outputs": [],
   "source": [
    "#Selecting the data\n",
    "str1 = data.loc[136]\n",
    "str2 = data.loc[140]\n",
    "str3 = data.loc[142]\n",
    "str4 = data.loc[152]\n",
    "str5 = data.loc[156]\n",
    "str6 = data.loc[158]\n",
    "str7 = data.loc[168]\n",
    "str8 = data.loc[172]\n",
    "str9 = data.loc[174]\n",
    "str10 = data.loc[184]\n",
    "str11 = data.loc[188]\n",
    "str12 = data.loc[190]\n",
    "str13 = data.loc[200]\n",
    "str14 = data.loc[204]\n",
    "str15 = data.loc[206]\n",
    "str16 = data.loc[216]\n",
    "str17 = data.loc[220]\n",
    "str18 = data.loc[222]\n",
    "str19 = data.loc[232]\n",
    "str20 = data.loc[236]\n",
    "str21 = data.loc[238]\n",
    "str22 = data.loc[248]\n",
    "str23 = data.loc[252]\n",
    "str24 = data.loc[254]\n",
    "str25 = data.loc[264]\n",
    "str26 = data.loc[268]\n",
    "str27 = data.loc[270]\n",
    "str28 = data.loc[280]\n",
    "str29 = data.loc[284]\n",
    "str30 = data.loc[286]\n",
    "str31 = data.loc[296]\n",
    "str32 = data.loc[300]\n",
    "str33 = data.loc[302]\n",
    "str34 = data.loc[312]\n",
    "str35 = data.loc[316]\n",
    "str36 = data.loc[318]\n",
    "str37 = data.loc[328]\n",
    "str38 = data.loc[332]\n",
    "str39 = data.loc[334]\n",
    "str40 = data.loc[600]\n",
    "str41 = data.loc[604]\n",
    "str42 = data.loc[606]"
   ]
  },
  {
   "cell_type": "code",
   "execution_count": 53,
   "metadata": {},
   "outputs": [
    {
     "data": {
      "text/plain": [
       "(Unnamed: 0                                                                                                                        136\n",
       " BUTTER (CASH SETTLED) - CHICAGO MERCANTILE EXCHANGE                  Code-050642      10,222   10,481        0   18,839   19,052  ...\n",
       " Name: 136, dtype: object,\n",
       " Unnamed: 0                                                                                                                        140\n",
       " BUTTER (CASH SETTLED) - CHICAGO MERCANTILE EXCHANGE                  Code-050642        33.0     33.8      0.0     60.7     61.4  ...\n",
       " Name: 140, dtype: object,\n",
       " Unnamed: 0                                                                                                                        142\n",
       " BUTTER (CASH SETTLED) - CHICAGO MERCANTILE EXCHANGE                  Code-050642          20       14        0       10        8  ...\n",
       " Name: 142, dtype: object,\n",
       " Unnamed: 0                                                                                                                        152\n",
       " BUTTER (CASH SETTLED) - CHICAGO MERCANTILE EXCHANGE                  Code-050642      46,899   37,767    1,748   68,966  109,887  ...\n",
       " Name: 152, dtype: object,\n",
       " Unnamed: 0                                                                                                                        156\n",
       " BUTTER (CASH SETTLED) - CHICAGO MERCANTILE EXCHANGE                  Code-050642        28.1     22.6      1.0     41.3     65.9  ...\n",
       " Name: 156, dtype: object)"
      ]
     },
     "execution_count": 53,
     "metadata": {},
     "output_type": "execute_result"
    }
   ],
   "source": [
    "str1, str2,str3,str4,str5"
   ]
  },
  {
   "cell_type": "code",
   "execution_count": 54,
   "metadata": {},
   "outputs": [],
   "source": [
    "#converting the data series to dataframe\n",
    "RUBLETP = str1.to_frame()\n",
    "RUBLEOI = str2.to_frame()\n",
    "RUBLETO = str3.to_frame()\n",
    "CADTP = str4.to_frame()\n",
    "CADOI = str5.to_frame()\n",
    "CADTO = str6.to_frame()\n",
    "CHFTP = str7.to_frame()\n",
    "CHFOI = str8.to_frame()\n",
    "CHFTO = str9.to_frame()\n",
    "PESOTP = str10.to_frame()\n",
    "PESOOI = str11.to_frame()\n",
    "PESOTO = str12.to_frame()\n",
    "GBPTP = str13.to_frame()\n",
    "GBPOI = str14.to_frame()\n",
    "GBPTO = str15.to_frame()\n",
    "JPYTP = str16.to_frame()\n",
    "JPYOI = str17.to_frame()\n",
    "JPYTO = str18.to_frame()\n",
    "EURFXTP = str19.to_frame()\n",
    "EURFXOI = str20.to_frame()\n",
    "EURFXTO = str21.to_frame()\n",
    "EURFXGBPTP = str22.to_frame()\n",
    "EURFXGBPOI = str23.to_frame()\n",
    "EURFXGBPTO = str24.to_frame()\n",
    "EURFXJPYTP = str25.to_frame()\n",
    "EURFXJPYOI = str26.to_frame()\n",
    "EURFXJPYTO = str27.to_frame()\n",
    "BRLTP = str28.to_frame()\n",
    "BRLOI = str29.to_frame()\n",
    "BRLTO = str30.to_frame()\n",
    "NZDTP = str31.to_frame()\n",
    "NZDOI = str32.to_frame()\n",
    "NZDTO = str33.to_frame()\n",
    "ZARTP = str34.to_frame()\n",
    "ZAROI = str35.to_frame()\n",
    "ZARTO = str36.to_frame()\n",
    "THREEMONTHEURUSDTP = str37.to_frame()\n",
    "THREEMONTHEURUSDOI = str38.to_frame()\n",
    "THREEMONTHEURUSDTO = str39.to_frame()\n",
    "AUDTP = str40.to_frame()\n",
    "AUDOI = str41.to_frame()\n",
    "AUDTO = str42.to_frame()"
   ]
  },
  {
   "cell_type": "code",
   "execution_count": 55,
   "metadata": {},
   "outputs": [
    {
     "data": {
      "text/plain": [
       "(                                                                                                  136\n",
       " Unnamed: 0                                                                                        136\n",
       " BUTTER (CASH SETTLED) - CHICAGO MERCANTILE EXCH...    10,222   10,481        0   18,839   19,052  ...,\n",
       "                                                                                                   140\n",
       " Unnamed: 0                                                                                        140\n",
       " BUTTER (CASH SETTLED) - CHICAGO MERCANTILE EXCH...      33.0     33.8      0.0     60.7     61.4  ...,\n",
       "                                                                                                   142\n",
       " Unnamed: 0                                                                                        142\n",
       " BUTTER (CASH SETTLED) - CHICAGO MERCANTILE EXCH...        20       14        0       10        8  ...,\n",
       "                                                                                                   152\n",
       " Unnamed: 0                                                                                        152\n",
       " BUTTER (CASH SETTLED) - CHICAGO MERCANTILE EXCH...    46,899   37,767    1,748   68,966  109,887  ...,\n",
       "                                                                                                   156\n",
       " Unnamed: 0                                                                                        156\n",
       " BUTTER (CASH SETTLED) - CHICAGO MERCANTILE EXCH...      28.1     22.6      1.0     41.3     65.9  ...,\n",
       "                                                                                                   158\n",
       " Unnamed: 0                                                                                        158\n",
       " BUTTER (CASH SETTLED) - CHICAGO MERCANTILE EXCH...        32       24       12       33       32  ...,\n",
       "                                                                                                   168\n",
       " Unnamed: 0                                                                                        168\n",
       " BUTTER (CASH SETTLED) - CHICAGO MERCANTILE EXCH...    21,561   10,038      872   14,875   27,410  ...,\n",
       "                                                                                                   172\n",
       " Unnamed: 0                                                                                        172\n",
       " BUTTER (CASH SETTLED) - CHICAGO MERCANTILE EXCH...      40.7     18.9      1.6     28.1     51.7  ...,\n",
       "                                                                                                   174\n",
       " Unnamed: 0                                                                                        174\n",
       " BUTTER (CASH SETTLED) - CHICAGO MERCANTILE EXCH...        13       14        4       16       13  ...)"
      ]
     },
     "execution_count": 55,
     "metadata": {},
     "output_type": "execute_result"
    }
   ],
   "source": [
    "RUBLETP,RUBLEOI,RUBLETO,CADTP,CADOI,CADTO,CHFTP,CHFOI,CHFTO"
   ]
  },
  {
   "cell_type": "code",
   "execution_count": 56,
   "metadata": {},
   "outputs": [
    {
     "data": {
      "text/plain": [
       "(                                                                                                  328\n",
       " Unnamed: 0                                                                                        328\n",
       " BUTTER (CASH SETTLED) - CHICAGO MERCANTILE EXCH...   2372370  1619872  3084042  5575667  6041143 1...,\n",
       "                                                                                                   332\n",
       " Unnamed: 0                                                                                        332\n",
       " BUTTER (CASH SETTLED) - CHICAGO MERCANTILE EXCH...      20.5     14.0     26.6     48.2     52.2  ...,\n",
       "                                                                                                   334\n",
       " Unnamed: 0                                                                                        334\n",
       " BUTTER (CASH SETTLED) - CHICAGO MERCANTILE EXCH...        55       50       82      114      122  ...,\n",
       "                                                                                                   600\n",
       " Unnamed: 0                                                                                        600\n",
       " BUTTER (CASH SETTLED) - CHICAGO MERCANTILE EXCH...    91,030  100,852    3,327  448,354  447,550  ...,\n",
       "                                                                                                   604\n",
       " Unnamed: 0                                                                                        604\n",
       " BUTTER (CASH SETTLED) - CHICAGO MERCANTILE EXCH...      15.9     17.6      0.6     78.3     78.1  ...,\n",
       "                                                                                                   606\n",
       " Unnamed: 0                                                                                        606\n",
       " BUTTER (CASH SETTLED) - CHICAGO MERCANTILE EXCH...        69       55       19      165      131  ...)"
      ]
     },
     "execution_count": 56,
     "metadata": {},
     "output_type": "execute_result"
    }
   ],
   "source": [
    "#Printing the data series\n",
    "RUBLETP, RUBLEOI, RUBLETO, CADTP, CADOI, CADTO, CHFTP, CHFOI, CHFTO, PESOTP, PESOOI, PESOTO, GBPTP, GBPOI,\n",
    "GBPTO,JPYTP,JPYOI, JPYTO, EURFXTP, EURFXOI, EURFXTO, EURFXGBPTP, EURFXGBPOI, EURFXGBPTO, EURFXJPYTP, \n",
    "EURFXJPYOI, EURFXJPYTO, BRLTP, BRLOI, BRLTO, NZDTP, NZDOI, NZDTO, ZARTP, ZAROI, ZARTO,\n",
    "THREEMONTHEURUSDTP, THREEMONTHEURUSDOI,THREEMONTHEURUSDTO, AUDTP, AUDOI, AUDTO"
   ]
  },
  {
   "cell_type": "code",
   "execution_count": 57,
   "metadata": {},
   "outputs": [],
   "source": [
    "#Renaming columns\n",
    "RUBLETP = RUBLETP.rename(columns = {136 : \"Values\"})\n",
    "RUBLEOI = RUBLEOI.rename(columns = {140 : \"Values\"})\n",
    "RUBLETO = RUBLETO.rename(columns = {142 : \"Values\"})\n",
    "CADTP = CADTP.rename(columns = {152 : \"Values\"})\n",
    "CADOI = CADOI.rename(columns = {156 : \"Values\"})\n",
    "CADTO = CADTO.rename(columns = {158 : \"Values\"})\n",
    "CHFTP = CHFTP.rename(columns = {168 : \"Values\"})\n",
    "CHFOI = CHFOI.rename(columns = {172 : \"Values\"})\n",
    "CHFTO = CHFTO.rename(columns = {174 : \"Values\"})\n",
    "PESOTP = PESOTP.rename(columns = {184 : \"Values\"})\n",
    "PESOOI = PESOOI.rename(columns = {188 : \"Values\"})\n",
    "PESOTO = PESOTO.rename(columns = {190 : \"Values\"})\n",
    "GBPTP = GBPTP.rename(columns = {200 : \"Values\"})\n",
    "GBPOI = GBPOI.rename(columns = {204 : \"Values\"})\n",
    "GBPTO = GBPTO.rename(columns = {206 : \"Values\"})\n",
    "JPYTP = JPYTP.rename(columns = {216 : \"Values\"})\n",
    "JPYOI = JPYOI.rename(columns = {220 : \"Values\"})\n",
    "JPYTO = JPYTO.rename(columns = {222 : \"Values\"})\n",
    "EURFXTP = EURFXTP.rename(columns = {232 : \"Values\"})\n",
    "EURFXOI = EURFXOI.rename(columns = {236 : \"Values\"})\n",
    "EURFXTO = EURFXTO.rename(columns = {238 : \"Values\"})\n",
    "EURFXGBPTP = EURFXGBPTP.rename(columns = {248 : \"Values\"})\n",
    "EURFXGBPOI = EURFXGBPOI.rename(columns = {252 : \"Values\"})\n",
    "EURFXGBPTO = EURFXGBPTO.rename(columns = {254 : \"Values\"})\n",
    "EURFXJPYTP = EURFXJPYTP.rename(columns = {264 : \"Values\"})\n",
    "EURFXJPYOI = EURFXJPYOI.rename(columns = {268 : \"Values\"})\n",
    "EURFXJPYTO = EURFXJPYTO.rename(columns = {270 : \"Values\"})\n",
    "BRLTP = BRLTP.rename(columns = {280 : \"Values\"})\n",
    "BRLOI = BRLOI.rename(columns = {284 : \"Values\"})\n",
    "BRLTO = BRLTO.rename(columns = {286 : \"Values\"})\n",
    "NZDTP = NZDTP.rename(columns = {296 : \"Values\"})\n",
    "NZDOI = NZDOI.rename(columns = {300 : \"Values\"})\n",
    "NZDTO = NZDTO.rename(columns = {302 : \"Values\"})\n",
    "ZARTP = ZARTP.rename(columns = {312 : \"Values\"})\n",
    "ZAROI = ZAROI.rename(columns = {316 : \"Values\"})\n",
    "ZARTO = ZARTO.rename(columns = {318 : \"Values\"})\n",
    "THREEMONTHEURUSDTP = THREEMONTHEURUSDTP.rename(columns = {328 : \"Values\"})\n",
    "THREEMONTHEURUSDOI = THREEMONTHEURUSDOI.rename(columns = {332 : \"Values\"})\n",
    "THREEMONTHEURUSDTO = THREEMONTHEURUSDTO.rename(columns = {334 : \"Values\"})\n",
    "AUDTP = AUDTP.rename(columns = {600 : \"Values\"})\n",
    "AUDOI = AUDOI.rename(columns = {604 : \"Values\"})\n",
    "AUDTO = AUDTO.rename(columns = {606 : \"Values\"})"
   ]
  },
  {
   "cell_type": "code",
   "execution_count": 58,
   "metadata": {},
   "outputs": [
    {
     "data": {
      "text/plain": [
       "(                                                                                               Values\n",
       " Unnamed: 0                                                                                        136\n",
       " BUTTER (CASH SETTLED) - CHICAGO MERCANTILE EXCH...    10,222   10,481        0   18,839   19,052  ...,\n",
       "                                                                                                Values\n",
       " Unnamed: 0                                                                                        140\n",
       " BUTTER (CASH SETTLED) - CHICAGO MERCANTILE EXCH...      33.0     33.8      0.0     60.7     61.4  ...,\n",
       "                                                                                                Values\n",
       " Unnamed: 0                                                                                        142\n",
       " BUTTER (CASH SETTLED) - CHICAGO MERCANTILE EXCH...        20       14        0       10        8  ...,\n",
       "                                                                                                Values\n",
       " Unnamed: 0                                                                                        152\n",
       " BUTTER (CASH SETTLED) - CHICAGO MERCANTILE EXCH...    46,899   37,767    1,748   68,966  109,887  ...,\n",
       "                                                                                                Values\n",
       " Unnamed: 0                                                                                        156\n",
       " BUTTER (CASH SETTLED) - CHICAGO MERCANTILE EXCH...      28.1     22.6      1.0     41.3     65.9  ...,\n",
       "                                                                                                Values\n",
       " Unnamed: 0                                                                                        158\n",
       " BUTTER (CASH SETTLED) - CHICAGO MERCANTILE EXCH...        32       24       12       33       32  ...,\n",
       "                                                                                                Values\n",
       " Unnamed: 0                                                                                        168\n",
       " BUTTER (CASH SETTLED) - CHICAGO MERCANTILE EXCH...    21,561   10,038      872   14,875   27,410  ...,\n",
       "                                                                                                Values\n",
       " Unnamed: 0                                                                                        172\n",
       " BUTTER (CASH SETTLED) - CHICAGO MERCANTILE EXCH...      40.7     18.9      1.6     28.1     51.7  ...,\n",
       "                                                                                                Values\n",
       " Unnamed: 0                                                                                        174\n",
       " BUTTER (CASH SETTLED) - CHICAGO MERCANTILE EXCH...        13       14        4       16       13  ...)"
      ]
     },
     "execution_count": 58,
     "metadata": {},
     "output_type": "execute_result"
    }
   ],
   "source": [
    "RUBLETP, RUBLEOI, RUBLETO, CADTP, CADOI, CADTO, CHFTP, CHFOI, CHFTO"
   ]
  },
  {
   "cell_type": "code",
   "execution_count": 59,
   "metadata": {},
   "outputs": [],
   "source": [
    "#Splitting the single column into multiple columns\n",
    "RUBLETP = pd.DataFrame(RUBLETP['Values'].str.split(' ').tolist())\n",
    "RUBLEOI = pd.DataFrame(RUBLEOI['Values'].str.split(' ').tolist())\n",
    "RUBLETO = pd.DataFrame(RUBLETO['Values'].str.split(' ').tolist())\n",
    "CADTP = pd.DataFrame(CADTP['Values'].str.split(' ').tolist())\n",
    "CADOI = pd.DataFrame(CADOI['Values'].str.split(' ').tolist())\n",
    "CADTO = pd.DataFrame(CADTO['Values'].str.split(' ').tolist())\n",
    "CHFTP = pd.DataFrame(CHFTP['Values'].str.split(' ').tolist())\n",
    "CHFOI = pd.DataFrame(CHFOI['Values'].str.split(' ').tolist())\n",
    "CHFTO = pd.DataFrame(CHFTO['Values'].str.split(' ').tolist())\n",
    "PESOTP = pd.DataFrame(PESOTP['Values'].str.split(' ').tolist())\n",
    "PESOOI = pd.DataFrame(PESOOI['Values'].str.split(' ').tolist())\n",
    "PESOTO = pd.DataFrame(PESOTO['Values'].str.split(' ').tolist())\n",
    "GBPTP = pd.DataFrame(GBPTP['Values'].str.split(' ').tolist())\n",
    "GBPOI = pd.DataFrame(GBPOI['Values'].str.split(' ').tolist())\n",
    "GBPTO = pd.DataFrame(GBPTO['Values'].str.split(' ').tolist())\n",
    "JPYTP = pd.DataFrame(JPYTP['Values'].str.split(' ').tolist())\n",
    "JPYOI = pd.DataFrame(JPYOI['Values'].str.split(' ').tolist())\n",
    "JPYTO = pd.DataFrame(JPYTO['Values'].str.split(' ').tolist())\n",
    "EURFXTP = pd.DataFrame(EURFXTP['Values'].str.split(' ').tolist())\n",
    "EURFXOI = pd.DataFrame(EURFXOI['Values'].str.split(' ').tolist())\n",
    "EURFXTO = pd.DataFrame(EURFXTO['Values'].str.split(' ').tolist())\n",
    "EURFXGBPTP = pd.DataFrame(EURFXGBPTP['Values'].str.split(' ').tolist())\n",
    "EURFXGBPOI = pd.DataFrame(EURFXGBPOI['Values'].str.split(' ').tolist())\n",
    "EURFXGBPTO = pd.DataFrame(EURFXGBPTO['Values'].str.split(' ').tolist())\n",
    "EURFXJPYTP = pd.DataFrame(EURFXJPYTP['Values'].str.split(' ').tolist())\n",
    "EURFXJPYOI = pd.DataFrame(EURFXJPYOI['Values'].str.split(' ').tolist())\n",
    "EURFXJPYTO = pd.DataFrame(EURFXJPYTO['Values'].str.split(' ').tolist())\n",
    "BRLTP = pd.DataFrame(BRLTP['Values'].str.split(' ').tolist())\n",
    "BRLOI = pd.DataFrame(BRLOI['Values'].str.split(' ').tolist())\n",
    "BRLTO = pd.DataFrame(BRLTO['Values'].str.split(' ').tolist())\n",
    "NZDTP = pd.DataFrame(NZDTP['Values'].str.split(' ').tolist())\n",
    "NZDOI = pd.DataFrame(NZDOI['Values'].str.split(' ').tolist())\n",
    "NZDTO = pd.DataFrame(NZDTO['Values'].str.split(' ').tolist())\n",
    "ZARTP = pd.DataFrame(ZARTP['Values'].str.split(' ').tolist())\n",
    "ZAROI = pd.DataFrame(ZAROI['Values'].str.split(' ').tolist())\n",
    "ZARTO = pd.DataFrame(ZARTO['Values'].str.split(' ').tolist())\n",
    "THREEMONTHEURUSDTP = pd.DataFrame(THREEMONTHEURUSDTP['Values'].str.split(' ').tolist())\n",
    "THREEMONTHEURUSDOI = pd.DataFrame(THREEMONTHEURUSDOI['Values'].str.split(' ').tolist())\n",
    "THREEMONTHEURUSDTO = pd.DataFrame(THREEMONTHEURUSDTO['Values'].str.split(' ').tolist())\n",
    "AUDTP = pd.DataFrame(AUDTP['Values'].str.split(' ').tolist())\n",
    "AUDOI = pd.DataFrame(AUDOI['Values'].str.split(' ').tolist())\n",
    "AUDTO = pd.DataFrame(AUDTO['Values'].str.split(' ').tolist())"
   ]
  },
  {
   "cell_type": "code",
   "execution_count": 60,
   "metadata": {},
   "outputs": [
    {
     "data": {
      "text/plain": [
       "(                                                   0\n",
       " 0                                                NaN\n",
       " 1  [, , 10,222, , , 10,481, , , , , , , , 0, , , ...,\n",
       "                                                    0\n",
       " 0                                                NaN\n",
       " 1  [, , , , 33.0, , , , , 33.8, , , , , , 0.0, , ...,\n",
       "                                                    0\n",
       " 0                                                NaN\n",
       " 1  [, , , , , , 20, , , , , , , 14, , , , , , , ,...,\n",
       "                                                    0\n",
       " 0                                                NaN\n",
       " 1  [, , 46,899, , , 37,767, , , , 1,748, , , 68,9...,\n",
       "                                                    0\n",
       " 0                                                NaN\n",
       " 1  [, , , , 28.1, , , , , 22.6, , , , , , 1.0, , ...,\n",
       "                                                    0\n",
       " 0                                                NaN\n",
       " 1  [, , , , , , 32, , , , , , , 24, , , , , , , 1...,\n",
       "                                                    0\n",
       " 0                                                NaN\n",
       " 1  [, , 21,561, , , 10,038, , , , , , 872, , , 14...,\n",
       "                                                    0\n",
       " 0                                                NaN\n",
       " 1  [, , , , 40.7, , , , , 18.9, , , , , , 1.6, , ...,\n",
       "                                                    0\n",
       " 0                                                NaN\n",
       " 1  [, , , , , , 13, , , , , , , 14, , , , , , , ,...)"
      ]
     },
     "execution_count": 60,
     "metadata": {},
     "output_type": "execute_result"
    }
   ],
   "source": [
    "RUBLETP, RUBLEOI, RUBLETO, CADTP, CADOI, CADTO, CHFTP, CHFOI, CHFTO"
   ]
  },
  {
   "cell_type": "code",
   "execution_count": 61,
   "metadata": {},
   "outputs": [],
   "source": [
    "#Replacing whitespaces into np.nan values\n",
    "RUBLETP = RUBLETP.replace(r'^\\s*$', np.nan, regex=True)\n",
    "RUBLEOI = RUBLEOI.replace(r'^\\s*$', np.nan, regex=True)\n",
    "RUBLETO = RUBLETO.replace(r'^\\s*$', np.nan, regex=True)\n",
    "CADTP = CADTP.replace(r'^\\s*$', np.nan, regex=True)\n",
    "CADOI = CADOI.replace(r'^\\s*$', np.nan, regex=True)\n",
    "CADTO = CADTO.replace(r'^\\s*$', np.nan, regex=True)\n",
    "CHFTP = CHFTP.replace(r'^\\s*$', np.nan, regex=True)\n",
    "CHFOI = CHFOI.replace(r'^\\s*$', np.nan, regex=True)\n",
    "CHFTO = CHFTO.replace(r'^\\s*$', np.nan, regex=True)\n",
    "PESOTP = PESOTP.replace(r'^\\s*$', np.nan, regex=True)\n",
    "PESOOI = PESOOI.replace(r'^\\s*$', np.nan, regex=True)\n",
    "PESOTO = PESOTO.replace(r'^\\s*$', np.nan, regex=True)\n",
    "GBPTP = GBPTP.replace(r'^\\s*$', np.nan, regex=True)\n",
    "GBPOI = GBPOI.replace(r'^\\s*$', np.nan, regex=True)\n",
    "GBPTO = GBPTO.replace(r'^\\s*$', np.nan, regex=True)\n",
    "JPYTP = JPYTP.replace(r'^\\s*$', np.nan, regex=True)\n",
    "JPYOI = JPYOI.replace(r'^\\s*$', np.nan, regex=True)\n",
    "JPYTO = JPYTO.replace(r'^\\s*$', np.nan, regex=True)\n",
    "EURFXTP = EURFXTP.replace(r'^\\s*$', np.nan, regex=True)\n",
    "EURFXOI = EURFXOI.replace(r'^\\s*$', np.nan, regex=True)\n",
    "EURFXTO = EURFXTO.replace(r'^\\s*$', np.nan, regex=True)\n",
    "EURFXGBPTP = EURFXGBPTP.replace(r'^\\s*$', np.nan, regex=True)\n",
    "EURFXGBPOI = EURFXGBPOI.replace(r'^\\s*$', np.nan, regex=True)\n",
    "EURFXGBPTO = EURFXGBPTO.replace(r'^\\s*$', np.nan, regex=True)\n",
    "EURFXJPYTP = EURFXJPYTP.replace(r'^\\s*$', np.nan, regex=True)\n",
    "EURFXJPYOI = EURFXJPYOI.replace(r'^\\s*$', np.nan, regex=True)\n",
    "EURFXJPYTO = EURFXJPYTO.replace(r'^\\s*$', np.nan, regex=True)\n",
    "BRLTP = BRLTP.replace(r'^\\s*$', np.nan, regex=True)\n",
    "BRLOI = BRLOI.replace(r'^\\s*$', np.nan, regex=True)\n",
    "BRLTO = BRLTO.replace(r'^\\s*$', np.nan, regex=True)\n",
    "NZDTP = NZDTP.replace(r'^\\s*$', np.nan, regex=True)\n",
    "NZDOI = NZDOI.replace(r'^\\s*$', np.nan, regex=True)\n",
    "NZDTO = NZDTO.replace(r'^\\s*$', np.nan, regex=True)\n",
    "ZARTP = ZARTP.replace(r'^\\s*$', np.nan, regex=True)\n",
    "ZAROI = ZAROI.replace(r'^\\s*$', np.nan, regex=True)\n",
    "ZARTO = ZARTO.replace(r'^\\s*$', np.nan, regex=True)\n",
    "THREEMONTHEURUSDTP = THREEMONTHEURUSDTP.replace(r'^\\s*$', np.nan, regex=True)\n",
    "THREEMONTHEURUSDOI = THREEMONTHEURUSDOI.replace(r'^\\s*$', np.nan, regex=True)\n",
    "THREEMONTHEURUSDTO = THREEMONTHEURUSDTO.replace(r'^\\s*$', np.nan, regex=True)\n",
    "AUDTP = AUDTP.replace(r'^\\s*$', np.nan, regex=True)\n",
    "AUDOI = AUDOI.replace(r'^\\s*$', np.nan, regex=True)\n",
    "AUDTO = AUDTO.replace(r'^\\s*$', np.nan, regex=True)"
   ]
  },
  {
   "cell_type": "code",
   "execution_count": 62,
   "metadata": {},
   "outputs": [
    {
     "data": {
      "text/html": [
       "<div>\n",
       "<style scoped>\n",
       "    .dataframe tbody tr th:only-of-type {\n",
       "        vertical-align: middle;\n",
       "    }\n",
       "\n",
       "    .dataframe tbody tr th {\n",
       "        vertical-align: top;\n",
       "    }\n",
       "\n",
       "    .dataframe thead th {\n",
       "        text-align: right;\n",
       "    }\n",
       "</style>\n",
       "<table border=\"1\" class=\"dataframe\">\n",
       "  <thead>\n",
       "    <tr style=\"text-align: right;\">\n",
       "      <th></th>\n",
       "      <th>0</th>\n",
       "    </tr>\n",
       "  </thead>\n",
       "  <tbody>\n",
       "    <tr>\n",
       "      <th>0</th>\n",
       "      <td>NaN</td>\n",
       "    </tr>\n",
       "    <tr>\n",
       "      <th>1</th>\n",
       "      <td>[, , 10,222, , , 10,481, , , , , , , , 0, , , ...</td>\n",
       "    </tr>\n",
       "  </tbody>\n",
       "</table>\n",
       "</div>"
      ],
      "text/plain": [
       "                                                   0\n",
       "0                                                NaN\n",
       "1  [, , 10,222, , , 10,481, , , , , , , , 0, , , ..."
      ]
     },
     "execution_count": 62,
     "metadata": {},
     "output_type": "execute_result"
    }
   ],
   "source": [
    "RUBLETP"
   ]
  },
  {
   "cell_type": "code",
   "execution_count": 63,
   "metadata": {},
   "outputs": [],
   "source": [
    "#Dropping nan columns\n",
    "RUBLETP = RUBLETP.dropna(axis = 'columns')\n",
    "RUBLEOI = RUBLEOI.dropna(axis = 'columns')\n",
    "RUBLETO = RUBLETO.dropna(axis = 'columns')\n",
    "CADTP = CADTP.dropna(axis = 'columns')\n",
    "CADOI = CADOI.dropna(axis = 'columns')\n",
    "CADTO = CADTO.dropna(axis = 'columns')\n",
    "CHFTP = CHFTP.dropna(axis = 'columns')\n",
    "CHFOI = CHFOI.dropna(axis = 'columns')\n",
    "CHFTO = CHFTO.dropna(axis = 'columns')\n",
    "PESOTP = PESOTP.dropna(axis = 'columns')\n",
    "PESOOI = PESOOI.dropna(axis = 'columns')\n",
    "PESOTO = PESOTO.dropna(axis = 'columns')\n",
    "GBPTP = GBPTP.dropna(axis = 'columns')\n",
    "GBPOI = GBPOI.dropna(axis = 'columns')\n",
    "GBPTO = GBPTO.dropna(axis = 'columns')\n",
    "JPYTP = JPYTP.dropna(axis = 'columns')\n",
    "JPYOI = JPYOI.dropna(axis = 'columns')\n",
    "JPYTO = JPYTO.dropna(axis = 'columns')\n",
    "EURFXTP = EURFXTP.dropna(axis = 'columns')\n",
    "EURFXOI = EURFXOI.dropna(axis = 'columns')\n",
    "EURFXTO = EURFXTO.dropna(axis = 'columns')\n",
    "EURFXGBPTP = EURFXGBPTP.dropna(axis = 'columns')\n",
    "EURFXGBPOI = EURFXGBPOI.dropna(axis = 'columns')\n",
    "EURFXGBPTO = EURFXGBPTO.dropna(axis = 'columns')\n",
    "EURFXJPYTP = EURFXJPYTP.dropna(axis = 'columns')\n",
    "EURFXJPYOI = EURFXJPYOI.dropna(axis = 'columns')\n",
    "EURFXJPYTO = EURFXJPYTO.dropna(axis = 'columns')\n",
    "BRLTP = BRLTP.dropna(axis = 'columns')\n",
    "BRLOI = BRLOI.dropna(axis = 'columns')\n",
    "BRLTO = BRLTO.dropna(axis = 'columns')\n",
    "NZDTP = NZDTP.dropna(axis = 'columns')\n",
    "NZDOI = NZDOI.dropna(axis = 'columns')\n",
    "NZDTO = NZDTO.dropna(axis = 'columns')\n",
    "ZARTP = ZARTP.dropna(axis = 'columns')\n",
    "ZAROI = ZAROI.dropna(axis = 'columns')\n",
    "ZARTO = ZARTO.dropna(axis = 'columns')\n",
    "THREEMONTHEURUSDTP = THREEMONTHEURUSDTP.dropna(axis = 'columns')\n",
    "THREEMONTHEURUSDOI = THREEMONTHEURUSDOI.dropna(axis = 'columns')\n",
    "THREEMONTHEURUSDTO = THREEMONTHEURUSDTO.dropna(axis = 'columns')\n",
    "AUDTP = AUDTP.dropna(axis = 'columns')\n",
    "AUDOI = AUDOI.dropna(axis = 'columns')\n",
    "AUDTO = AUDTO.dropna(axis = 'columns')"
   ]
  },
  {
   "cell_type": "code",
   "execution_count": 64,
   "metadata": {},
   "outputs": [
    {
     "data": {
      "text/html": [
       "<div>\n",
       "<style scoped>\n",
       "    .dataframe tbody tr th:only-of-type {\n",
       "        vertical-align: middle;\n",
       "    }\n",
       "\n",
       "    .dataframe tbody tr th {\n",
       "        vertical-align: top;\n",
       "    }\n",
       "\n",
       "    .dataframe thead th {\n",
       "        text-align: right;\n",
       "    }\n",
       "</style>\n",
       "<table border=\"1\" class=\"dataframe\">\n",
       "  <thead>\n",
       "    <tr style=\"text-align: right;\">\n",
       "      <th></th>\n",
       "    </tr>\n",
       "  </thead>\n",
       "  <tbody>\n",
       "    <tr>\n",
       "      <th>0</th>\n",
       "    </tr>\n",
       "    <tr>\n",
       "      <th>1</th>\n",
       "    </tr>\n",
       "  </tbody>\n",
       "</table>\n",
       "</div>"
      ],
      "text/plain": [
       "Empty DataFrame\n",
       "Columns: []\n",
       "Index: [0, 1]"
      ]
     },
     "execution_count": 64,
     "metadata": {},
     "output_type": "execute_result"
    }
   ],
   "source": [
    "RUBLETP"
   ]
  },
  {
   "cell_type": "code",
   "execution_count": 65,
   "metadata": {},
   "outputs": [
    {
     "ename": "ValueError",
     "evalue": "Length mismatch: Expected axis has 0 elements, new values have 9 elements",
     "output_type": "error",
     "traceback": [
      "\u001b[1;31m---------------------------------------------------------------------------\u001b[0m",
      "\u001b[1;31mValueError\u001b[0m                                Traceback (most recent call last)",
      "\u001b[1;32m<ipython-input-65-0f853f331439>\u001b[0m in \u001b[0;36m<module>\u001b[1;34m\u001b[0m\n\u001b[0;32m      1\u001b[0m \u001b[1;31m#Renaming Columns\u001b[0m\u001b[1;33m\u001b[0m\u001b[1;33m\u001b[0m\u001b[1;33m\u001b[0m\u001b[0m\n\u001b[1;32m----> 2\u001b[1;33m \u001b[0mRUBLETP\u001b[0m\u001b[1;33m.\u001b[0m\u001b[0mcolumns\u001b[0m \u001b[1;33m=\u001b[0m \u001b[1;33m[\u001b[0m\u001b[1;34m'NCLong'\u001b[0m\u001b[1;33m,\u001b[0m\u001b[1;34m'NCShort'\u001b[0m\u001b[1;33m,\u001b[0m\u001b[1;34m'NCSpreads'\u001b[0m\u001b[1;33m,\u001b[0m\u001b[1;34m'CLong'\u001b[0m\u001b[1;33m,\u001b[0m\u001b[1;34m'CShort'\u001b[0m\u001b[1;33m,\u001b[0m\u001b[1;34m'TLong'\u001b[0m\u001b[1;33m,\u001b[0m\u001b[1;34m'TShort'\u001b[0m\u001b[1;33m,\u001b[0m\u001b[1;34m'NRLong'\u001b[0m\u001b[1;33m,\u001b[0m\u001b[1;34m'NRShort'\u001b[0m\u001b[1;33m]\u001b[0m\u001b[1;33m\u001b[0m\u001b[1;33m\u001b[0m\u001b[0m\n\u001b[0m\u001b[0;32m      3\u001b[0m \u001b[0mRUBLEOI\u001b[0m\u001b[1;33m.\u001b[0m\u001b[0mcolumns\u001b[0m \u001b[1;33m=\u001b[0m \u001b[1;33m[\u001b[0m\u001b[1;34m'NCLong'\u001b[0m\u001b[1;33m,\u001b[0m\u001b[1;34m'NCShort'\u001b[0m\u001b[1;33m,\u001b[0m\u001b[1;34m'NCSpreads'\u001b[0m\u001b[1;33m,\u001b[0m\u001b[1;34m'CLong'\u001b[0m\u001b[1;33m,\u001b[0m\u001b[1;34m'CShort'\u001b[0m\u001b[1;33m,\u001b[0m\u001b[1;34m'TLong'\u001b[0m\u001b[1;33m,\u001b[0m\u001b[1;34m'TShort'\u001b[0m\u001b[1;33m,\u001b[0m\u001b[1;34m'NRLong'\u001b[0m\u001b[1;33m,\u001b[0m\u001b[1;34m'NRShort'\u001b[0m\u001b[1;33m]\u001b[0m\u001b[1;33m\u001b[0m\u001b[1;33m\u001b[0m\u001b[0m\n\u001b[0;32m      4\u001b[0m \u001b[0mRUBLETO\u001b[0m\u001b[1;33m.\u001b[0m\u001b[0mcolumns\u001b[0m \u001b[1;33m=\u001b[0m \u001b[1;33m[\u001b[0m\u001b[1;34m'NCLong'\u001b[0m\u001b[1;33m,\u001b[0m\u001b[1;34m'NCShort'\u001b[0m\u001b[1;33m,\u001b[0m\u001b[1;34m'NCSpreads'\u001b[0m\u001b[1;33m,\u001b[0m\u001b[1;34m'CLong'\u001b[0m\u001b[1;33m,\u001b[0m\u001b[1;34m'CShort'\u001b[0m\u001b[1;33m,\u001b[0m\u001b[1;34m'TLong'\u001b[0m\u001b[1;33m,\u001b[0m\u001b[1;34m'TShort'\u001b[0m\u001b[1;33m]\u001b[0m\u001b[1;33m\u001b[0m\u001b[1;33m\u001b[0m\u001b[0m\n\u001b[0;32m      5\u001b[0m \u001b[0mCADTP\u001b[0m\u001b[1;33m.\u001b[0m\u001b[0mcolumns\u001b[0m \u001b[1;33m=\u001b[0m \u001b[1;33m[\u001b[0m\u001b[1;34m'NCLong'\u001b[0m\u001b[1;33m,\u001b[0m\u001b[1;34m'NCShort'\u001b[0m\u001b[1;33m,\u001b[0m\u001b[1;34m'NCSpreads'\u001b[0m\u001b[1;33m,\u001b[0m\u001b[1;34m'CLong'\u001b[0m\u001b[1;33m,\u001b[0m\u001b[1;34m'CShort'\u001b[0m\u001b[1;33m,\u001b[0m\u001b[1;34m'TLong'\u001b[0m\u001b[1;33m,\u001b[0m\u001b[1;34m'TShort'\u001b[0m\u001b[1;33m,\u001b[0m\u001b[1;34m'NRLong'\u001b[0m\u001b[1;33m,\u001b[0m\u001b[1;34m'NRShort'\u001b[0m\u001b[1;33m]\u001b[0m\u001b[1;33m\u001b[0m\u001b[1;33m\u001b[0m\u001b[0m\n",
      "\u001b[1;32m~\\Anaconda3\\lib\\site-packages\\pandas\\core\\generic.py\u001b[0m in \u001b[0;36m__setattr__\u001b[1;34m(self, name, value)\u001b[0m\n\u001b[0;32m   5285\u001b[0m         \u001b[1;32mtry\u001b[0m\u001b[1;33m:\u001b[0m\u001b[1;33m\u001b[0m\u001b[1;33m\u001b[0m\u001b[0m\n\u001b[0;32m   5286\u001b[0m             \u001b[0mobject\u001b[0m\u001b[1;33m.\u001b[0m\u001b[0m__getattribute__\u001b[0m\u001b[1;33m(\u001b[0m\u001b[0mself\u001b[0m\u001b[1;33m,\u001b[0m \u001b[0mname\u001b[0m\u001b[1;33m)\u001b[0m\u001b[1;33m\u001b[0m\u001b[1;33m\u001b[0m\u001b[0m\n\u001b[1;32m-> 5287\u001b[1;33m             \u001b[1;32mreturn\u001b[0m \u001b[0mobject\u001b[0m\u001b[1;33m.\u001b[0m\u001b[0m__setattr__\u001b[0m\u001b[1;33m(\u001b[0m\u001b[0mself\u001b[0m\u001b[1;33m,\u001b[0m \u001b[0mname\u001b[0m\u001b[1;33m,\u001b[0m \u001b[0mvalue\u001b[0m\u001b[1;33m)\u001b[0m\u001b[1;33m\u001b[0m\u001b[1;33m\u001b[0m\u001b[0m\n\u001b[0m\u001b[0;32m   5288\u001b[0m         \u001b[1;32mexcept\u001b[0m \u001b[0mAttributeError\u001b[0m\u001b[1;33m:\u001b[0m\u001b[1;33m\u001b[0m\u001b[1;33m\u001b[0m\u001b[0m\n\u001b[0;32m   5289\u001b[0m             \u001b[1;32mpass\u001b[0m\u001b[1;33m\u001b[0m\u001b[1;33m\u001b[0m\u001b[0m\n",
      "\u001b[1;32mpandas\\_libs\\properties.pyx\u001b[0m in \u001b[0;36mpandas._libs.properties.AxisProperty.__set__\u001b[1;34m()\u001b[0m\n",
      "\u001b[1;32m~\\Anaconda3\\lib\\site-packages\\pandas\\core\\generic.py\u001b[0m in \u001b[0;36m_set_axis\u001b[1;34m(self, axis, labels)\u001b[0m\n\u001b[0;32m    659\u001b[0m \u001b[1;33m\u001b[0m\u001b[0m\n\u001b[0;32m    660\u001b[0m     \u001b[1;32mdef\u001b[0m \u001b[0m_set_axis\u001b[0m\u001b[1;33m(\u001b[0m\u001b[0mself\u001b[0m\u001b[1;33m,\u001b[0m \u001b[0maxis\u001b[0m\u001b[1;33m,\u001b[0m \u001b[0mlabels\u001b[0m\u001b[1;33m)\u001b[0m \u001b[1;33m->\u001b[0m \u001b[1;32mNone\u001b[0m\u001b[1;33m:\u001b[0m\u001b[1;33m\u001b[0m\u001b[1;33m\u001b[0m\u001b[0m\n\u001b[1;32m--> 661\u001b[1;33m         \u001b[0mself\u001b[0m\u001b[1;33m.\u001b[0m\u001b[0m_data\u001b[0m\u001b[1;33m.\u001b[0m\u001b[0mset_axis\u001b[0m\u001b[1;33m(\u001b[0m\u001b[0maxis\u001b[0m\u001b[1;33m,\u001b[0m \u001b[0mlabels\u001b[0m\u001b[1;33m)\u001b[0m\u001b[1;33m\u001b[0m\u001b[1;33m\u001b[0m\u001b[0m\n\u001b[0m\u001b[0;32m    662\u001b[0m         \u001b[0mself\u001b[0m\u001b[1;33m.\u001b[0m\u001b[0m_clear_item_cache\u001b[0m\u001b[1;33m(\u001b[0m\u001b[1;33m)\u001b[0m\u001b[1;33m\u001b[0m\u001b[1;33m\u001b[0m\u001b[0m\n\u001b[0;32m    663\u001b[0m \u001b[1;33m\u001b[0m\u001b[0m\n",
      "\u001b[1;32m~\\Anaconda3\\lib\\site-packages\\pandas\\core\\internals\\managers.py\u001b[0m in \u001b[0;36mset_axis\u001b[1;34m(self, axis, new_labels)\u001b[0m\n\u001b[0;32m    176\u001b[0m         \u001b[1;32mif\u001b[0m \u001b[0mnew_len\u001b[0m \u001b[1;33m!=\u001b[0m \u001b[0mold_len\u001b[0m\u001b[1;33m:\u001b[0m\u001b[1;33m\u001b[0m\u001b[1;33m\u001b[0m\u001b[0m\n\u001b[0;32m    177\u001b[0m             raise ValueError(\n\u001b[1;32m--> 178\u001b[1;33m                 \u001b[1;34mf\"Length mismatch: Expected axis has {old_len} elements, new \"\u001b[0m\u001b[1;33m\u001b[0m\u001b[1;33m\u001b[0m\u001b[0m\n\u001b[0m\u001b[0;32m    179\u001b[0m                 \u001b[1;34mf\"values have {new_len} elements\"\u001b[0m\u001b[1;33m\u001b[0m\u001b[1;33m\u001b[0m\u001b[0m\n\u001b[0;32m    180\u001b[0m             )\n",
      "\u001b[1;31mValueError\u001b[0m: Length mismatch: Expected axis has 0 elements, new values have 9 elements"
     ]
    }
   ],
   "source": [
    "#Renaming Columns\n",
    "RUBLETP.columns = ['NCLong','NCShort','NCSpreads','CLong','CShort','TLong','TShort','NRLong','NRShort']\n",
    "RUBLEOI.columns = ['NCLong','NCShort','NCSpreads','CLong','CShort','TLong','TShort','NRLong','NRShort']\n",
    "RUBLETO.columns = ['NCLong','NCShort','NCSpreads','CLong','CShort','TLong','TShort']\n",
    "CADTP.columns = ['NCLong','NCShort','NCSpreads','CLong','CShort','TLong','TShort','NRLong','NRShort']\n",
    "CADOI.columns = ['NCLong','NCShort','NCSpreads','CLong','CShort','TLong','TShort','NRLong','NRShort']\n",
    "CADTO.columns = ['NCLong','NCShort','NCSpreads','CLong','CShort','TLong','TShort']\n",
    "CHFTP.columns = ['NCLong','NCShort','NCSpreads','CLong','CShort','TLong','TShort','NRLong','NRShort']\n",
    "CHFOI.columns = ['NCLong','NCShort','NCSpreads','CLong','CShort','TLong','TShort','NRLong','NRShort']\n",
    "CHFTO.columns = ['NCLong','NCShort','NCSpreads','CLong','CShort','TLong','TShort']\n",
    "PESOTP.columns = ['NCLong','NCShort','NCSpreads','CLong','CShort','TLong','TShort','NRLong','NRShort']\n",
    "PESOOI.columns = ['NCLong','NCShort','NCSpreads','CLong','CShort','TLong','TShort','NRLong','NRShort']\n",
    "PESOTO.columns = ['NCLong','NCShort','NCSpreads','CLong','CShort','TLong','TShort']\n",
    "GBPTP.columns = ['NCLong','NCShort','NCSpreads','CLong','CShort','TLong','TShort','NRLong','NRShort']\n",
    "GBPOI.columns = ['NCLong','NCShort','NCSpreads','CLong','CShort','TLong','TShort','NRLong','NRShort']\n",
    "GBPTO.columns = ['NCLong','NCShort','NCSpreads','CLong','CShort','TLong','TShort']\n",
    "JPYTP.columns = ['NCLong','NCShort','NCSpreads','CLong','CShort','TLong','TShort','NRLong','NRShort']\n",
    "JPYOI.columns = ['NCLong','NCShort','NCSpreads','CLong','CShort','TLong','TShort','NRLong','NRShort']\n",
    "JPYTO.columns = ['NCLong','NCShort','NCSpreads','CLong','CShort','TLong','TShort']\n",
    "EURFXTP.columns = ['NCLong','NCShort','NCSpreads','CLong','CShort','TLong','TShort','NRLong','NRShort']\n",
    "EURFXOI.columns = ['NCLong','NCShort','NCSpreads','CLong','CShort','TLong','TShort','NRLong','NRShort']\n",
    "EURFXTO.columns = ['NCLong','NCShort','NCSpreads','CLong','CShort','TLong','TShort']\n",
    "EURFXGBPTP.columns = ['NCLong','NCShort','NCSpreads','CLong','CShort','TLong','TShort','NRLong','NRShort']\n",
    "EURFXGBPOI.columns = ['NCLong','NCShort','NCSpreads','CLong','CShort','TLong','TShort','NRLong','NRShort']\n",
    "EURFXGBPTO.columns = ['NCLong','NCShort','NCSpreads','CLong','CShort','TLong','TShort']\n",
    "EURFXJPYTP.columns = ['NCLong','NCShort','NCSpreads','CLong','CShort','TLong','TShort','NRLong','NRShort']\n",
    "EURFXJPYOI.columns = ['NCLong','NCShort','NCSpreads','CLong','CShort','TLong','TShort','NRLong','NRShort']\n",
    "EURFXJPYTO.columns = ['NCLong','NCShort','NCSpreads','CLong','CShort','TLong','TShort']\n",
    "BRLTP.columns = ['NCLong','NCShort','NCSpreads','CLong','CShort','TLong','TShort','NRLong','NRShort']\n",
    "BRLOI.columns = ['NCLong','NCShort','NCSpreads','CLong','CShort','TLong','TShort','NRLong','NRShort']\n",
    "BRLTO.columns = ['NCLong','NCShort','NCSpreads','CLong','CShort','TLong','TShort']\n",
    "NZDTP.columns = ['NCLong','NCShort','NCSpreads','CLong','CShort','TLong','TShort','NRLong','NRShort']\n",
    "NZDOI.columns = ['NCLong','NCShort','NCSpreads','CLong','CShort','TLong','TShort','NRLong','NRShort']\n",
    "NZDTO.columns = ['NCLong','NCShort','NCSpreads','CLong','CShort','TLong','TShort']\n",
    "ZARTP.columns = ['NCLong','NCShort','NCSpreads','CLong','CShort','TLong','TShort','NRLong','NRShort']\n",
    "ZAROI.columns = ['NCLong','NCShort','NCSpreads','CLong','CShort','TLong','TShort','NRLong','NRShort']\n",
    "ZARTO.columns = ['NCLong','NCShort','NCSpreads','CLong','CShort','TLong','TShort']\n",
    "THREEMONTHEURUSDTP.columns = ['NCLong','NCShort','NCSpreads','CLong','CShort','TLong','TShort','NRLong','NRShort']\n",
    "THREEMONTHEURUSDOI.columns = ['NCLong','NCShort','NCSpreads','CLong','CShort','TLong','TShort','NRLong','NRShort']\n",
    "THREEMONTHEURUSDTO.columns = ['NCLong','NCShort','NCSpreads','CLong','CShort','TLong','TShort']\n",
    "AUDTP.columns = ['NCLong','NCShort','NCSpreads','CLong','CShort','TLong','TShort','NRLong','NRShort']\n",
    "AUDOI.columns = ['NCLong','NCShort','NCSpreads','CLong','CShort','TLong','TShort','NRLong','NRShort']\n",
    "AUDTO.columns = ['NCLong','NCShort','NCSpreads','CLong','CShort','TLong','TShort']"
   ]
  },
  {
   "cell_type": "code",
   "execution_count": 25,
   "metadata": {},
   "outputs": [],
   "source": [
    "# Appending datasets\n",
    "Combined = RUBLETP.append([RUBLEOI, RUBLETO, CADTP, CADOI, CADTO, CHFTP, CHFOI, CHFTO, PESOTP, PESOOI, PESOTO, GBPTP, GBPOI,\n",
    "GBPTO,JPYTP,JPYOI, JPYTO, EURFXTP, EURFXOI, EURFXTO, EURFXGBPTP, EURFXGBPOI, EURFXGBPTO, EURFXJPYTP, \n",
    "EURFXJPYOI, EURFXJPYTO, BRLTP, BRLOI, BRLTO, NZDTP, NZDOI, NZDTO, ZARTP, ZAROI, ZARTO,\n",
    "THREEMONTHEURUSDTP, THREEMONTHEURUSDOI,THREEMONTHEURUSDTO, AUDTP, AUDOI, AUDTO])"
   ]
  },
  {
   "cell_type": "code",
   "execution_count": 26,
   "metadata": {},
   "outputs": [],
   "source": [
    "#Renaming row names and filling nan values with 0\n",
    "Combined['No'] = np.arange(len(Combined))\n",
    "Combined = Combined.set_index('No')"
   ]
  },
  {
   "cell_type": "code",
   "execution_count": 27,
   "metadata": {},
   "outputs": [],
   "source": [
    "#Renaming row names and filling nan values with 0\n",
    "Combined = Combined.rename(index = {0 : 'RUBLETP', 1: 'RUBLEOI', 2: 'RUBLETO',\n",
    "                                   3 : 'CADTP', 4: 'CADOI', 5: 'CADTO',\n",
    "                                   6 : 'CHFTP', 7: 'CHFOI', 8: 'CHFTO',\n",
    "                                   9 : 'PESOTP', 10: 'PESOOI', 11: 'PESOTO', \n",
    "                                   12 : 'GBPTP', 13: 'GBPOI', 14: 'GBPTO', \n",
    "                                   15 : 'JPYTP', 16: 'JPYOI', 17: 'JPYTO', \n",
    "                                   18 : 'EURFXTP', 19: 'EURFXOI', 20: 'EURFXTO', \n",
    "                                   21 : 'EURFXGBPTP', 22: 'EURFXGBPOI', 23: 'EURFXGBPTO', \n",
    "                                   24 : 'EURFXJPYTP', 25: 'EURFXJPYOI', 26: 'EURFXJPYTO', \n",
    "                                   27 : 'BRLTP', 28: 'BRLOI', 29: 'BRLTO', \n",
    "                                   30 : 'NZDTP', 31: 'NZDOI', 32: 'NZDTO', \n",
    "                                   33 : 'ZARTP', 34: 'ZAROI', 35: 'ZARTO', \n",
    "                                   36 : 'THREEMONTHEURUSDTP', 37: 'THREEMONTHEURUSDOI', 38: 'THREEMONTHEURUSDTO', \n",
    "                                   39 : 'AUDTP', 40: 'AUDOI', 41: 'AUDTO'})\n",
    "Combined = Combined.fillna(0)"
   ]
  },
  {
   "cell_type": "code",
   "execution_count": 28,
   "metadata": {},
   "outputs": [
    {
     "data": {
      "text/plain": [
       "(                                                                                               Values\n",
       " BUTTER (CASH SETTLED) - CHICAGO MERCANTILE EXCH...      32.7     20.1      0.0     60.1     76.5  ...,\n",
       "                                                                                                Values\n",
       " BUTTER (CASH SETTLED) - CHICAGO MERCANTILE EXCH...        19        7        0       10        7  ...,\n",
       "                                                                                                Values\n",
       " BUTTER (CASH SETTLED) - CHICAGO MERCANTILE EXCH...    50,907   40,644    3,040   82,575  111,850  ...)"
      ]
     },
     "execution_count": 28,
     "metadata": {},
     "output_type": "execute_result"
    }
   ],
   "source": [
    "RUBLEOI, RUBLETO, CADTP"
   ]
  },
  {
   "cell_type": "code",
   "execution_count": null,
   "metadata": {},
   "outputs": [],
   "source": []
  }
 ],
 "metadata": {
  "kernelspec": {
   "display_name": "Python 3",
   "language": "python",
   "name": "python3"
  },
  "language_info": {
   "codemirror_mode": {
    "name": "ipython",
    "version": 3
   },
   "file_extension": ".py",
   "mimetype": "text/x-python",
   "name": "python",
   "nbconvert_exporter": "python",
   "pygments_lexer": "ipython3",
   "version": "3.7.6"
  }
 },
 "nbformat": 4,
 "nbformat_minor": 4
}
